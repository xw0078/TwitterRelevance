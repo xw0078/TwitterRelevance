{
 "cells": [
  {
   "cell_type": "code",
   "execution_count": 1,
   "metadata": {},
   "outputs": [],
   "source": [
    "%matplotlib inline\n",
    "# -*- coding: utf-8 -*-\n",
    "import sys\n",
    "sys.path.append('/usr/local/lib/python3.6/site-packages')\n",
    "sys.path.append('library/')\n",
    "import numpy as np\n",
    "import matplotlib.pyplot as plt\n",
    "import pandas as pd\n",
    "import datetime as dt\n",
    "import time\n",
    "import matplotlib.dates as md\n",
    "from scipy import fftpack\n",
    "from sklearn.preprocessing import MinMaxScaler\n",
    "from sklearn.preprocessing import StandardScaler\n",
    "import imp  \n",
    "from sklearn.cluster import KMeans\n",
    "from sklearn.externals import joblib\n",
    "from imblearn.over_sampling import ADASYN\n",
    "from collections import Counter\n",
    "from sklearn.naive_bayes import GaussianNB\n",
    "from sklearn.linear_model import LogisticRegression\n",
    "from sklearn.linear_model import Perceptron\n",
    "from sklearn.svm import SVC\n",
    "from sklearn.model_selection import cross_val_score\n",
    "from sklearn.model_selection import cross_val_predict\n",
    "import sklearn.metrics as metrics\n",
    "from sklearn.neural_network import MLPClassifier\n",
    "from sklearn.model_selection import GridSearchCV\n",
    "from sklearn.cluster import DBSCAN\n",
    "from sklearn import metrics\n",
    "from sklearn.datasets.samples_generator import make_blobs\n",
    "from sklearn.neighbors import NearestNeighbors\n",
    "import json\n",
    "import requests\n",
    "\n",
    "from nltk.stem import WordNetLemmatizer\n",
    "from nltk.corpus import stopwords\n",
    "from gensim.models import Word2Vec\n",
    "from sklearn import mixture\n",
    "import itertools\n",
    "from scipy import linalg"
   ]
  },
  {
   "cell_type": "code",
   "execution_count": 2,
   "metadata": {},
   "outputs": [],
   "source": [
    "import NoiseRemover"
   ]
  },
  {
   "cell_type": "code",
   "execution_count": 3,
   "metadata": {
    "collapsed": true
   },
   "outputs": [],
   "source": [
    "def isEnglish(s):\n",
    "    try:\n",
    "        s.encode(encoding='utf-8').decode('ascii')\n",
    "    except UnicodeDecodeError:\n",
    "        return False\n",
    "    else:\n",
    "        return True"
   ]
  },
  {
   "cell_type": "markdown",
   "metadata": {},
   "source": [
    "# Load Data and Pre-Processing"
   ]
  },
  {
   "cell_type": "code",
   "execution_count": 4,
   "metadata": {
    "scrolled": true
   },
   "outputs": [
    {
     "data": {
      "text/plain": [
       "{'archivesource': 'twitter-search',\n",
       " 'created_at': 'Mon Oct 02 20:34:31 +0000 2017',\n",
       " 'from_user': 'ajohouse',\n",
       " 'from_user_id': '113623863',\n",
       " 'geo_coordinates_0': '0.0',\n",
       " 'geo_coordinates_1': '0.0',\n",
       " 'geo_type': '',\n",
       " 'id': '914951754223144960',\n",
       " 'iso_language_code': 'en',\n",
       " 'profile_image_url': 'http://pbs.twimg.com/profile_background_images/611771378/x747d4959c351659f880a3a579e75250.png',\n",
       " 'source': '<a href=\"http://twitter.com/download/iphone\" rel=\"nofollow\">Twitter for iPhone</a>',\n",
       " 'text': \"RT @cristinalaila1: 🚨CBS Exec: No Sympathy For Vegas Because 'Country Music Fans Are Often Gun Toting Republicans' #LasVegas #Shooting  htt…\",\n",
       " 'time': '1506976471',\n",
       " 'to_user_id': ''}"
      ]
     },
     "execution_count": 4,
     "metadata": {},
     "output_type": "execute_result"
    }
   ],
   "source": [
    "with open(\"data/Dataset_z_1024_tweets.json\") as f:\n",
    "    content = f.read()\n",
    "    content = content.replace(\"][\",\",\")\n",
    "    D_1024 = json.loads(\"\".join(content))\n",
    "D_1024[0]"
   ]
  },
  {
   "cell_type": "markdown",
   "metadata": {},
   "source": [
    "Extract text data and build index"
   ]
  },
  {
   "cell_type": "code",
   "execution_count": 5,
   "metadata": {},
   "outputs": [],
   "source": [
    "D_1024_text = [] # clean text list\n",
    "D_1024_original_text = [] # original text list\n",
    "D_1024_original_index = []\n",
    "D_1024_clean_index = []\n",
    "nr = NoiseRemover.NoiseRemover()\n",
    "index = 0\n",
    "for record in D_1024:\n",
    "    D_1024_original_text.append(record[\"text\"])\n",
    "    cleaned_record = nr.clean_tweet(tweet=record[\"text\"])\n",
    "    D_1024_original_index.append(int(index))\n",
    "    if cleaned_record:\n",
    "        if not isEnglish(cleaned_record):\n",
    "            index += 1\n",
    "            continue\n",
    "        D_1024_text.append(cleaned_record)\n",
    "        D_1024_clean_index.append(int(index))\n",
    "    index += 1"
   ]
  },
  {
   "cell_type": "code",
   "execution_count": 6,
   "metadata": {},
   "outputs": [
    {
     "data": {
      "text/plain": [
       "(10119, 11750)"
      ]
     },
     "execution_count": 6,
     "metadata": {},
     "output_type": "execute_result"
    }
   ],
   "source": [
    "len(D_1024_text),len(D_1024_original_text)"
   ]
  },
  {
   "cell_type": "code",
   "execution_count": 7,
   "metadata": {},
   "outputs": [
    {
     "data": {
      "text/plain": [
       "['exec sympathy vega music fan often gun tot',\n",
       " 'pray kill injure concert lord restore dignity human life',\n",
       " 'mass shoot since',\n",
       " 'scary interviewer say lady say go die tonight minute listen',\n",
       " 'support regulate amendment',\n",
       " 'nobody say anything shoot inside planet hollywood saw horrible',\n",
       " 'exec sympathy vega music fan often gun tot',\n",
       " 'scary interviewer say lady say go die tonight minute listen',\n",
       " 'bank robber kill big still consider attack',\n",
       " 'la vega shoot least dead mandalay bay hotel']"
      ]
     },
     "execution_count": 7,
     "metadata": {},
     "output_type": "execute_result"
    }
   ],
   "source": [
    "D_1024_text[0:10]"
   ]
  },
  {
   "cell_type": "markdown",
   "metadata": {},
   "source": [
    "Create Dataframes"
   ]
  },
  {
   "cell_type": "code",
   "execution_count": 8,
   "metadata": {
    "collapsed": true
   },
   "outputs": [],
   "source": [
    "D_1024_df = pd.DataFrame()\n",
    "D_1024_df[\"text\"] = D_1024_text\n",
    "D_1024_df[\"index\"] = D_1024_clean_index\n",
    "D_1024_df = D_1024_df.drop_duplicates(subset='text', keep='first')"
   ]
  },
  {
   "cell_type": "code",
   "execution_count": 9,
   "metadata": {},
   "outputs": [
    {
     "data": {
      "text/html": [
       "<div>\n",
       "<style>\n",
       "    .dataframe thead tr:only-child th {\n",
       "        text-align: right;\n",
       "    }\n",
       "\n",
       "    .dataframe thead th {\n",
       "        text-align: left;\n",
       "    }\n",
       "\n",
       "    .dataframe tbody tr th {\n",
       "        vertical-align: top;\n",
       "    }\n",
       "</style>\n",
       "<table border=\"1\" class=\"dataframe\">\n",
       "  <thead>\n",
       "    <tr style=\"text-align: right;\">\n",
       "      <th></th>\n",
       "      <th>text</th>\n",
       "      <th>index</th>\n",
       "    </tr>\n",
       "  </thead>\n",
       "  <tbody>\n",
       "    <tr>\n",
       "      <th>0</th>\n",
       "      <td>exec sympathy vega music fan often gun tot</td>\n",
       "      <td>0</td>\n",
       "    </tr>\n",
       "    <tr>\n",
       "      <th>1</th>\n",
       "      <td>pray kill injure concert lord restore dignity ...</td>\n",
       "      <td>3</td>\n",
       "    </tr>\n",
       "    <tr>\n",
       "      <th>2</th>\n",
       "      <td>mass shoot since</td>\n",
       "      <td>4</td>\n",
       "    </tr>\n",
       "    <tr>\n",
       "      <th>3</th>\n",
       "      <td>scary interviewer say lady say go die tonight ...</td>\n",
       "      <td>5</td>\n",
       "    </tr>\n",
       "    <tr>\n",
       "      <th>4</th>\n",
       "      <td>support regulate amendment</td>\n",
       "      <td>6</td>\n",
       "    </tr>\n",
       "    <tr>\n",
       "      <th>5</th>\n",
       "      <td>nobody say anything shoot inside planet hollyw...</td>\n",
       "      <td>7</td>\n",
       "    </tr>\n",
       "    <tr>\n",
       "      <th>8</th>\n",
       "      <td>bank robber kill big still consider attack</td>\n",
       "      <td>10</td>\n",
       "    </tr>\n",
       "    <tr>\n",
       "      <th>9</th>\n",
       "      <td>la vega shoot least dead mandalay bay hotel</td>\n",
       "      <td>11</td>\n",
       "    </tr>\n",
       "    <tr>\n",
       "      <th>11</th>\n",
       "      <td>viral video man call bullet rain</td>\n",
       "      <td>13</td>\n",
       "    </tr>\n",
       "    <tr>\n",
       "      <th>14</th>\n",
       "      <td>beard like happen killer need access firearm s...</td>\n",
       "      <td>16</td>\n",
       "    </tr>\n",
       "  </tbody>\n",
       "</table>\n",
       "</div>"
      ],
      "text/plain": [
       "                                                 text  index\n",
       "0          exec sympathy vega music fan often gun tot      0\n",
       "1   pray kill injure concert lord restore dignity ...      3\n",
       "2                                    mass shoot since      4\n",
       "3   scary interviewer say lady say go die tonight ...      5\n",
       "4                          support regulate amendment      6\n",
       "5   nobody say anything shoot inside planet hollyw...      7\n",
       "8          bank robber kill big still consider attack     10\n",
       "9         la vega shoot least dead mandalay bay hotel     11\n",
       "11                   viral video man call bullet rain     13\n",
       "14  beard like happen killer need access firearm s...     16"
      ]
     },
     "execution_count": 9,
     "metadata": {},
     "output_type": "execute_result"
    }
   ],
   "source": [
    "D_1024_df.head(10)"
   ]
  },
  {
   "cell_type": "code",
   "execution_count": 10,
   "metadata": {},
   "outputs": [
    {
     "data": {
      "text/plain": [
       "(1917, 2)"
      ]
     },
     "execution_count": 10,
     "metadata": {},
     "output_type": "execute_result"
    }
   ],
   "source": [
    "D_1024_df.shape"
   ]
  },
  {
   "cell_type": "code",
   "execution_count": 11,
   "metadata": {},
   "outputs": [
    {
     "data": {
      "text/plain": [
       "(11750, 2)"
      ]
     },
     "execution_count": 11,
     "metadata": {},
     "output_type": "execute_result"
    }
   ],
   "source": [
    "D_1024_original_df = pd.DataFrame()\n",
    "D_1024_original_df[\"text\"] = D_1024_original_text\n",
    "D_1024_original_df[\"index\"] = D_1024_original_index\n",
    "D_1024_original_df.shape"
   ]
  },
  {
   "cell_type": "code",
   "execution_count": 12,
   "metadata": {},
   "outputs": [
    {
     "data": {
      "text/html": [
       "<div>\n",
       "<style>\n",
       "    .dataframe thead tr:only-child th {\n",
       "        text-align: right;\n",
       "    }\n",
       "\n",
       "    .dataframe thead th {\n",
       "        text-align: left;\n",
       "    }\n",
       "\n",
       "    .dataframe tbody tr th {\n",
       "        vertical-align: top;\n",
       "    }\n",
       "</style>\n",
       "<table border=\"1\" class=\"dataframe\">\n",
       "  <thead>\n",
       "    <tr style=\"text-align: right;\">\n",
       "      <th></th>\n",
       "      <th>text</th>\n",
       "      <th>index</th>\n",
       "    </tr>\n",
       "  </thead>\n",
       "  <tbody>\n",
       "    <tr>\n",
       "      <th>0</th>\n",
       "      <td>RT @cristinalaila1: 🚨CBS Exec: No Sympathy For...</td>\n",
       "      <td>0</td>\n",
       "    </tr>\n",
       "    <tr>\n",
       "      <th>1</th>\n",
       "      <td>#LasVegas #shooting https://t.co/x3INvmma9C</td>\n",
       "      <td>1</td>\n",
       "    </tr>\n",
       "    <tr>\n",
       "      <th>2</th>\n",
       "      <td>RT @UTHornsRawk: #breaking #LasVegas #shooting...</td>\n",
       "      <td>2</td>\n",
       "    </tr>\n",
       "    <tr>\n",
       "      <th>3</th>\n",
       "      <td>RT @ArchbishopDen: Pray for all those killed a...</td>\n",
       "      <td>3</td>\n",
       "    </tr>\n",
       "    <tr>\n",
       "      <th>4</th>\n",
       "      <td>RT @MrScottEddy: Mass Shootings in the U.S. si...</td>\n",
       "      <td>4</td>\n",
       "    </tr>\n",
       "    <tr>\n",
       "      <th>5</th>\n",
       "      <td>RT @Fuctupmind: Scary\\nInterviewer says lady s...</td>\n",
       "      <td>5</td>\n",
       "    </tr>\n",
       "    <tr>\n",
       "      <th>6</th>\n",
       "      <td>RT @RamboPepe41391: #LasVegas #GunControlNow #...</td>\n",
       "      <td>6</td>\n",
       "    </tr>\n",
       "    <tr>\n",
       "      <th>7</th>\n",
       "      <td>RT @latunesi: Why nobody say anything about th...</td>\n",
       "      <td>7</td>\n",
       "    </tr>\n",
       "    <tr>\n",
       "      <th>8</th>\n",
       "      <td>RT @cristinalaila1: 🚨CBS Exec: No Sympathy For...</td>\n",
       "      <td>8</td>\n",
       "    </tr>\n",
       "    <tr>\n",
       "      <th>9</th>\n",
       "      <td>RT @Fuctupmind: Scary\\nInterviewer says lady s...</td>\n",
       "      <td>9</td>\n",
       "    </tr>\n",
       "  </tbody>\n",
       "</table>\n",
       "</div>"
      ],
      "text/plain": [
       "                                                text  index\n",
       "0  RT @cristinalaila1: 🚨CBS Exec: No Sympathy For...      0\n",
       "1        #LasVegas #shooting https://t.co/x3INvmma9C      1\n",
       "2  RT @UTHornsRawk: #breaking #LasVegas #shooting...      2\n",
       "3  RT @ArchbishopDen: Pray for all those killed a...      3\n",
       "4  RT @MrScottEddy: Mass Shootings in the U.S. si...      4\n",
       "5  RT @Fuctupmind: Scary\\nInterviewer says lady s...      5\n",
       "6  RT @RamboPepe41391: #LasVegas #GunControlNow #...      6\n",
       "7  RT @latunesi: Why nobody say anything about th...      7\n",
       "8  RT @cristinalaila1: 🚨CBS Exec: No Sympathy For...      8\n",
       "9  RT @Fuctupmind: Scary\\nInterviewer says lady s...      9"
      ]
     },
     "execution_count": 12,
     "metadata": {},
     "output_type": "execute_result"
    }
   ],
   "source": [
    "D_1024_original_df.head(10)"
   ]
  },
  {
   "cell_type": "code",
   "execution_count": 13,
   "metadata": {
    "collapsed": true
   },
   "outputs": [],
   "source": [
    "D_1024_df.to_csv(\"processed_data/D_1024_text_cleaned.csv\")"
   ]
  },
  {
   "cell_type": "markdown",
   "metadata": {},
   "source": [
    "# Word-Vector Train"
   ]
  },
  {
   "cell_type": "code",
   "execution_count": 14,
   "metadata": {},
   "outputs": [
    {
     "data": {
      "text/plain": [
       "['exec', 'sympathy', 'vega', 'music', 'fan', 'often', 'gun', 'tot']"
      ]
     },
     "execution_count": 14,
     "metadata": {},
     "output_type": "execute_result"
    }
   ],
   "source": [
    "D_1024_df['text'][0].split() #tokenize"
   ]
  },
  {
   "cell_type": "code",
   "execution_count": 15,
   "metadata": {
    "collapsed": true
   },
   "outputs": [],
   "source": [
    "D_1024_tk = []\n",
    "for record in D_1024_df['text']:\n",
    "    words = record.split()\n",
    "    D_1024_tk.append(words)"
   ]
  },
  {
   "cell_type": "code",
   "execution_count": 16,
   "metadata": {},
   "outputs": [
    {
     "data": {
      "text/plain": [
       "1917"
      ]
     },
     "execution_count": 16,
     "metadata": {},
     "output_type": "execute_result"
    }
   ],
   "source": [
    "len(D_1024_tk)"
   ]
  },
  {
   "cell_type": "markdown",
   "metadata": {},
   "source": [
    "Train Word2Vev"
   ]
  },
  {
   "cell_type": "code",
   "execution_count": 17,
   "metadata": {
    "collapsed": true
   },
   "outputs": [],
   "source": [
    "model = Word2Vec(D_1024_tk, min_count=2)"
   ]
  },
  {
   "cell_type": "code",
   "execution_count": 18,
   "metadata": {},
   "outputs": [
    {
     "name": "stdout",
     "output_type": "stream",
     "text": [
      "Word2Vec(vocab=1195, size=100, alpha=0.025)\n"
     ]
    }
   ],
   "source": [
    "print(model)"
   ]
  },
  {
   "cell_type": "code",
   "execution_count": 19,
   "metadata": {},
   "outputs": [
    {
     "name": "stdout",
     "output_type": "stream",
     "text": [
      "[ -1.98753318e-03  -2.84849294e-03   4.65128990e-03  -3.61922197e-03\n",
      "   5.77430520e-03   3.38950986e-03   2.21296190e-03  -2.91639124e-03\n",
      "  -1.07173119e-05  -1.19302643e-03  -2.81763729e-03  -3.28164129e-03\n",
      "   2.09989492e-03  -2.39595072e-03   3.48241790e-03   3.18637613e-04\n",
      "  -2.43356987e-03  -1.69140776e-03  -1.19520424e-04  -1.85899471e-03\n",
      "   8.81350774e-04  -8.90079362e-04   3.95865133e-03  -3.87939205e-03\n",
      "  -2.15505110e-03  -3.79312248e-03   1.86661084e-03   3.89613933e-03\n",
      "   1.11513026e-03   2.76603457e-03   7.55743240e-04   1.93203334e-03\n",
      "  -3.20015568e-03   4.27217223e-03   3.78558435e-03  -3.25154979e-04\n",
      "  -3.48249800e-03  -2.02505360e-03   2.56710313e-03  -2.12651258e-03\n",
      "   3.94320395e-03   1.57410931e-03   3.77362547e-03   1.29170087e-03\n",
      "   4.53572394e-03   2.59701582e-03  -4.78469161e-03  -4.27431150e-05\n",
      "  -5.23329480e-03   3.74628580e-03   1.60360694e-04  -2.13348214e-03\n",
      "   3.69966635e-03   1.37502095e-03  -3.68387508e-03  -1.50915550e-03\n",
      "   6.41140563e-04   2.93016317e-03   3.29592754e-03  -3.34895006e-03\n",
      "   5.43572847e-03   2.30360264e-03  -6.12343487e-04  -2.18233792e-03\n",
      "  -2.98538501e-03  -6.72007678e-04   4.02171304e-03   4.64477064e-03\n",
      "   3.18969926e-03  -2.03726487e-03  -2.07858175e-04   2.49020336e-03\n",
      "   1.02512538e-03   2.56595830e-03   4.99038445e-03   1.59605860e-03\n",
      "   4.00247658e-03   2.28001480e-03   2.68931664e-03  -2.01675529e-03\n",
      "   2.29781237e-03  -1.97676662e-03  -4.51245857e-03   1.07414256e-04\n",
      "   1.74572133e-03   1.74815988e-03  -3.37740546e-03  -2.47575925e-03\n",
      "  -5.22953633e-04  -3.74224223e-03  -2.66090082e-03  -3.54752154e-03\n",
      "   3.94979399e-03   5.22683887e-03  -5.36754914e-03  -1.94478233e-03\n",
      "   2.54321698e-04  -1.83093466e-03   2.70560710e-03  -3.77963064e-03]\n"
     ]
    }
   ],
   "source": [
    "print(model['word'])"
   ]
  },
  {
   "cell_type": "markdown",
   "metadata": {},
   "source": [
    "# Averaging Sentence"
   ]
  },
  {
   "cell_type": "code",
   "execution_count": 20,
   "metadata": {},
   "outputs": [],
   "source": [
    "def get_sentence_vector(model,size, sentence):\n",
    "    featureVec = np.zeros((1,size))\n",
    "    nwords = 0\n",
    "    if(len(sentence) == 0):\n",
    "        return featureVec\n",
    "    for word in sentence:\n",
    "        try:\n",
    "            word_vector = model[word]\n",
    "            nwords += 1\n",
    "            #print word_vector\n",
    "            featureVec = np.add(featureVec, word_vector)\n",
    "        except:\n",
    "            pass #Swallow exception\n",
    "    if (nwords > 0):\n",
    "        featureVec = np.divide(featureVec, nwords)\n",
    "    return featureVec"
   ]
  },
  {
   "cell_type": "code",
   "execution_count": 21,
   "metadata": {
    "collapsed": true
   },
   "outputs": [],
   "source": [
    "sentence_vectors = []\n",
    "for sentence in D_1024_tk:\n",
    "    sentence_vector = get_sentence_vector(model,100, sentence)\n",
    "    sentence_vectors.append(sentence_vector[0])"
   ]
  },
  {
   "cell_type": "markdown",
   "metadata": {},
   "source": [
    "# GMM Modeling"
   ]
  },
  {
   "cell_type": "code",
   "execution_count": 51,
   "metadata": {},
   "outputs": [],
   "source": [
    "gmm = mixture.GaussianMixture(n_components=74).fit(sentence_vectors)"
   ]
  },
  {
   "cell_type": "code",
   "execution_count": 52,
   "metadata": {
    "collapsed": true
   },
   "outputs": [],
   "source": [
    "gmm_result = gmm.predict(sentence_vectors)"
   ]
  },
  {
   "cell_type": "code",
   "execution_count": 54,
   "metadata": {},
   "outputs": [
    {
     "data": {
      "text/plain": [
       "(1917,)"
      ]
     },
     "execution_count": 54,
     "metadata": {},
     "output_type": "execute_result"
    }
   ],
   "source": [
    "gmm_result.shape"
   ]
  },
  {
   "cell_type": "markdown",
   "metadata": {},
   "source": [
    "# Export Result"
   ]
  },
  {
   "cell_type": "code",
   "execution_count": 55,
   "metadata": {},
   "outputs": [],
   "source": [
    "result_df = pd.DataFrame()"
   ]
  },
  {
   "cell_type": "code",
   "execution_count": 56,
   "metadata": {},
   "outputs": [],
   "source": [
    "result_df[\"label\"] = gmm_result\n",
    "result_df[\"clean_text\"] = D_1024_df[\"text\"].values\n",
    "result_df[\"index\"] = D_1024_df[\"index\"].values"
   ]
  },
  {
   "cell_type": "code",
   "execution_count": 57,
   "metadata": {},
   "outputs": [
    {
     "data": {
      "text/plain": [
       "(1917, 3)"
      ]
     },
     "execution_count": 57,
     "metadata": {},
     "output_type": "execute_result"
    }
   ],
   "source": [
    "result_df.shape"
   ]
  },
  {
   "cell_type": "code",
   "execution_count": 58,
   "metadata": {},
   "outputs": [
    {
     "data": {
      "text/plain": [
       "(11750, 2)"
      ]
     },
     "execution_count": 58,
     "metadata": {},
     "output_type": "execute_result"
    }
   ],
   "source": [
    "D_1024_original_df.shape"
   ]
  },
  {
   "cell_type": "code",
   "execution_count": 59,
   "metadata": {
    "collapsed": true
   },
   "outputs": [],
   "source": [
    "result_merge_df = pd.merge(result_df,D_1024_original_df, on=\"index\")"
   ]
  },
  {
   "cell_type": "code",
   "execution_count": 60,
   "metadata": {},
   "outputs": [
    {
     "data": {
      "text/plain": [
       "(1917, 4)"
      ]
     },
     "execution_count": 60,
     "metadata": {},
     "output_type": "execute_result"
    }
   ],
   "source": [
    "result_merge_df.shape"
   ]
  },
  {
   "cell_type": "code",
   "execution_count": 61,
   "metadata": {
    "collapsed": true
   },
   "outputs": [],
   "source": [
    "result_merge_df.to_csv(\"processed_data/gmm_74_result.csv\")"
   ]
  },
  {
   "cell_type": "code",
   "execution_count": null,
   "metadata": {
    "collapsed": true
   },
   "outputs": [],
   "source": []
  },
  {
   "cell_type": "code",
   "execution_count": null,
   "metadata": {
    "collapsed": true
   },
   "outputs": [],
   "source": []
  },
  {
   "cell_type": "code",
   "execution_count": null,
   "metadata": {
    "collapsed": true
   },
   "outputs": [],
   "source": []
  },
  {
   "cell_type": "code",
   "execution_count": null,
   "metadata": {
    "collapsed": true
   },
   "outputs": [],
   "source": []
  },
  {
   "cell_type": "code",
   "execution_count": null,
   "metadata": {
    "collapsed": true
   },
   "outputs": [],
   "source": []
  },
  {
   "cell_type": "code",
   "execution_count": null,
   "metadata": {
    "collapsed": true
   },
   "outputs": [],
   "source": []
  }
 ],
 "metadata": {
  "kernelspec": {
   "display_name": "Python 3",
   "language": "python",
   "name": "python3"
  },
  "language_info": {
   "codemirror_mode": {
    "name": "ipython",
    "version": 3
   },
   "file_extension": ".py",
   "mimetype": "text/x-python",
   "name": "python",
   "nbconvert_exporter": "python",
   "pygments_lexer": "ipython3",
   "version": "3.5.2"
  }
 },
 "nbformat": 4,
 "nbformat_minor": 2
}
